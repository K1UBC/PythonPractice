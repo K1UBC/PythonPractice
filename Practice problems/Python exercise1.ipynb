{
 "cells": [
  {
   "cell_type": "code",
   "execution_count": 27,
   "metadata": {},
   "outputs": [
    {
     "name": "stdout",
     "output_type": "stream",
     "text": [
      "Enter your name: K\n",
      "Enter your age: 35\n",
      "Your name is K\n",
      "You will be 100 years old in the year of 2083\n"
     ]
    }
   ],
   "source": [
    "# Q1. \n",
    "# input: username and age\n",
    "# output: the year of user's age will be 100 years old    \n",
    "\n",
    "name = input(\"Enter your name: \")\n",
    "age = int(input(\"Enter your age: \"))\n",
    "year = str(2018 + 100 - age)\n",
    "\n",
    "print(\"Your name is \" + name )\n",
    "print(\"You will be 100 years old in the year of \" + year)"
   ]
  },
  {
   "cell_type": "code",
   "execution_count": 38,
   "metadata": {},
   "outputs": [
    {
     "name": "stdout",
     "output_type": "stream",
     "text": [
      "Input your favorite number: 3\n",
      "Your favorite number is odd.\n"
     ]
    }
   ],
   "source": [
    "\n",
    "# Q2.\n",
    "# Odd Or Even\n",
    "\n",
    "number = int(input(\"Input your favorite number: \"))\n",
    "if number % 4 == 0:\n",
    "    print(\"Your favorite number is \" + \"a mutiple of 4.\")\n",
    "elif number % 2 == 0:\n",
    "    print(\"Your favorite number is \" + \"even\")\n",
    "else:\n",
    "    print(\"Your favorite number is \" + \"odd.\")"
   ]
  },
  {
   "cell_type": "code",
   "execution_count": 60,
   "metadata": {
    "scrolled": true
   },
   "outputs": [
    {
     "name": "stdout",
     "output_type": "stream",
     "text": [
      "Input your first number: 13\n",
      "Input your second number: 13\n",
      "13 divides evenly by 13\n"
     ]
    }
   ],
   "source": [
    "# Q2 extra.\n",
    "\n",
    "num = int(input(\"Input your first number: \"))\n",
    "check = int(input(\"Input your second number: \"))\n",
    "\n",
    "\n",
    "if num % check == 0:\n",
    "    print(num, \"divides evenly by\", check)\n",
    "else: \n",
    "    print(num, \"does not divide evenly by\", check)\n",
    "\n"
   ]
  },
  {
   "cell_type": "code",
   "execution_count": 57,
   "metadata": {},
   "outputs": [
    {
     "name": "stdout",
     "output_type": "stream",
     "text": [
      "[1, 1, 2, 3, 5, 8]\n"
     ]
    }
   ],
   "source": [
    "#Q3. List Less Then Ten\n",
    "\n",
    "a = [ 1, 1, 2, 3, 5, 8, 13, 21, 34, 55, 89]\n",
    "new_list = []\n",
    "for element in a:\n",
    "    if element < 10:\n",
    "        new_list.append(element)\n",
    "\n",
    "print(new_list)\n",
    "        "
   ]
  },
  {
   "cell_type": "code",
   "execution_count": 59,
   "metadata": {},
   "outputs": [
    {
     "name": "stdout",
     "output_type": "stream",
     "text": [
      "Input your number: 13\n",
      "[1, 1, 2, 3, 5, 8]\n"
     ]
    }
   ],
   "source": [
    "a = [ 1, 1, 2, 3, 5, 8, 13, 21, 34, 55, 89]\n",
    "number = int(input(\"Input your number: \"))\n",
    "\n",
    "new_list2 = []\n",
    "for i in a:\n",
    "    if i < number:\n",
    "        new_list2.append(i)\n",
    "print(new_list2)\n",
    "    \n"
   ]
  },
  {
   "cell_type": "code",
   "execution_count": 67,
   "metadata": {},
   "outputs": [
    {
     "name": "stdout",
     "output_type": "stream",
     "text": [
      "Input your number: 10\n",
      "[1, 2, 5, 10]\n"
     ]
    }
   ],
   "source": [
    "# Q4.Divisors\n",
    "\n",
    "number = int(input(\"Input your number: \"))\n",
    "\n",
    "listRange = list(range(1, number+1))\n",
    "\n",
    "new_list = []\n",
    "\n",
    "for element in listRange:\n",
    "    if number % element == 0:\n",
    "        new_list.append(element)\n",
    "\n",
    "print(new_list)"
   ]
  },
  {
   "cell_type": "code",
   "execution_count": 70,
   "metadata": {},
   "outputs": [
    {
     "name": "stdout",
     "output_type": "stream",
     "text": [
      "[1, 1, 2, 3, 5, 8, 13]\n"
     ]
    }
   ],
   "source": [
    "#Q5. List Overlap\n",
    "\n",
    "a = [1, 1, 2, 3, 5, 8, 13, 21, 34, 55, 89]\n",
    "b = [1, 2, 3, 4, 5, 6, 7, 8, 9, 10, 11, 12, 13]\n",
    "\n",
    "new_list =[]\n",
    "\n",
    "for e in a:\n",
    "    if e in b:\n",
    "        new_list.append(e)\n",
    "print(new_list)\n"
   ]
  },
  {
   "cell_type": "code",
   "execution_count": null,
   "metadata": {},
   "outputs": [],
   "source": []
  }
 ],
 "metadata": {
  "kernelspec": {
   "display_name": "Python 3",
   "language": "python",
   "name": "python3"
  },
  "language_info": {
   "codemirror_mode": {
    "name": "ipython",
    "version": 3
   },
   "file_extension": ".py",
   "mimetype": "text/x-python",
   "name": "python",
   "nbconvert_exporter": "python",
   "pygments_lexer": "ipython3",
   "version": "3.6.5"
  }
 },
 "nbformat": 4,
 "nbformat_minor": 2
}
