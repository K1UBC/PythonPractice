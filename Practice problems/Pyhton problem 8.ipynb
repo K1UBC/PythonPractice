{
 "cells": [
  {
   "cell_type": "code",
   "execution_count": 7,
   "metadata": {},
   "outputs": [
    {
     "name": "stdout",
     "output_type": "stream",
     "text": [
      "What is your name?K\n",
      "What is your name?Y\n",
      "choose rock, scissors and paperrock\n",
      "choose rock, scissors and paperpaper\n",
      "'p2' wins!\n",
      "'p2' wins!\n"
     ]
    }
   ],
   "source": [
    "#Q8\n",
    "p1 = input(\"What is your name?\")\n",
    "p2 = input(\"What is your name?\")\n",
    "\n",
    "a1 = input (\"choose rock, scissors and paper\")\n",
    "a2 = input (\"choose rock, scissors and paper\")\n",
    "\n",
    "name_bet = {p1:a1, p2:a2}\n",
    "\n",
    "bet = {x:\"rock\", y:\"scissors\", z:\"paper\" }\n",
    "\n",
    "for bet in name_bet:\n",
    "\n",
    "    if a1 == x and a2 == x:\n",
    "        print(\"draw!\")\n",
    "    if a1 == x and a2 == y:\n",
    "        print(\"'p1' wins!\")\n",
    "    if a1 == x and a2 == z:\n",
    "        print(\"'p2' wins!\")\n",
    "\n",
    "    if a1 == y and a2 == x:\n",
    "        print(\"'p2' wins!\")\n",
    "    if a1 == y and a2 == y:\n",
    "        print(\"draw!\")\n",
    "    if a1 == y and a2 == z:\n",
    "        print(\"'p1' win!\")\n",
    "\n",
    "    if a1 == z and a2 == x:\n",
    "        print(\"'p1' wins!\")\n",
    "    if a1 == z and a2 == y:\n",
    "        print(\"'p2' win!\")\n",
    "    if a1 == z and a2 == z:\n",
    "        print(\"draw!\")"
   ]
  },
  {
   "cell_type": "code",
   "execution_count": null,
   "metadata": {},
   "outputs": [],
   "source": []
  }
 ],
 "metadata": {
  "kernelspec": {
   "display_name": "Python 3",
   "language": "python",
   "name": "python3"
  },
  "language_info": {
   "codemirror_mode": {
    "name": "ipython",
    "version": 3
   },
   "file_extension": ".py",
   "mimetype": "text/x-python",
   "name": "python",
   "nbconvert_exporter": "python",
   "pygments_lexer": "ipython3",
   "version": "3.6.5"
  }
 },
 "nbformat": 4,
 "nbformat_minor": 2
}
