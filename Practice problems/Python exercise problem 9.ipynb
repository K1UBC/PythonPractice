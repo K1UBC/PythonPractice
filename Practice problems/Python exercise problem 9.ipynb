{
 "cells": [
  {
   "cell_type": "code",
   "execution_count": null,
   "metadata": {},
   "outputs": [],
   "source": [
    "import random\n",
    "\n",
    "x = random.randint(1, 10)\n",
    "num = int(input(\"Choose a number between 1 and 9\"))\n",
    "\n",
    "print(x)\n",
    "\n",
    "while (num !=exit):\n",
    "    if num < x:\n",
    "        print(\"too low\")\n",
    "        num = int(input(\"Choose a number between 1 and 9 \\n\"))\n",
    "    elif num > x:\n",
    "        print(\"too high\")\n",
    "        num = int(input(\"Choose a number between 1 and 9 \\n\"))\n",
    "    else:\n",
    "        print(\" correct number \")\n",
    "        print(str(\"game over\"))\n",
    "        \n",
    "print(\"game over\")"
   ]
  },
  {
   "cell_type": "code",
   "execution_count": null,
   "metadata": {},
   "outputs": [],
   "source": []
  }
 ],
 "metadata": {
  "kernelspec": {
   "display_name": "Python 3",
   "language": "python",
   "name": "python3"
  },
  "language_info": {
   "codemirror_mode": {
    "name": "ipython",
    "version": 3
   },
   "file_extension": ".py",
   "mimetype": "text/x-python",
   "name": "python",
   "nbconvert_exporter": "python",
   "pygments_lexer": "ipython3",
   "version": "3.6.5"
  }
 },
 "nbformat": 4,
 "nbformat_minor": 2
}
