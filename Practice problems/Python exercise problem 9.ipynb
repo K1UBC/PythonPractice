{
 "cells": [
  {
   "cell_type": "code",
   "execution_count": 41,
   "metadata": {},
   "outputs": [
    {
     "name": "stdout",
     "output_type": "stream",
     "text": [
      "5\n",
      "Select your number \n",
      "9\n",
      "too low!\n",
      "Select your number \n",
      "5\n",
      "correct!\n",
      "game over\n"
     ]
    }
   ],
   "source": [
    "import random\n",
    "\n",
    "exit = -1\n",
    "\n",
    "x = random.randint(1, 10)\n",
    "\n",
    "print(x)\n",
    "\n",
    "num = input(\"Select your number \\n\")\n",
    "\n",
    "if num == \"exit\":\n",
    "    num = -1\n",
    "\n",
    "while num != exit:\n",
    "    if x > int(num):\n",
    "        print(\"too high!\")\n",
    "        num = input(\"Select your number \\n\")\n",
    "        if num == \"exit\":\n",
    "            print(\"end\")\n",
    "            break\n",
    "    elif x < int(num):\n",
    "        print(\"too low!\")\n",
    "        num = input(\"Select your number \\n\")\n",
    "        if num == \"exit\":\n",
    "            print(\"end\")\n",
    "            break\n",
    "    elif x == int(num):\n",
    "        print(\"correct!\")\n",
    "        break\n",
    "\n",
    "print(\"game over\")\n"
   ]
  },
  {
   "cell_type": "code",
   "execution_count": null,
   "metadata": {},
   "outputs": [],
   "source": []
  }
 ],
 "metadata": {
  "kernelspec": {
   "display_name": "Python 3",
   "language": "python",
   "name": "python3"
  },
  "language_info": {
   "codemirror_mode": {
    "name": "ipython",
    "version": 3
   },
   "file_extension": ".py",
   "mimetype": "text/x-python",
   "name": "python",
   "nbconvert_exporter": "python",
   "pygments_lexer": "ipython3",
   "version": "3.6.5"
  }
 },
 "nbformat": 4,
 "nbformat_minor": 2
}
