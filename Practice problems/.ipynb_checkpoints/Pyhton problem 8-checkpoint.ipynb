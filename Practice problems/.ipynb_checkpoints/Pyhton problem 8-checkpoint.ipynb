{
 "cells": [
  {
   "cell_type": "code",
   "execution_count": 1,
   "metadata": {
    "scrolled": true
   },
   "outputs": [
    {
     "name": "stdout",
     "output_type": "stream",
     "text": [
      "What is your name?K\n",
      "What is your name?L\n",
      "choose rock, scissors and paperrock\n",
      "choose rock, scissors and paperpaper\n",
      "L wins!\n"
     ]
    }
   ],
   "source": [
    "#Q8\n",
    "\n",
    "p1 = str(input(\"What is your name?\"))\n",
    "p2 = str(input(\"What is your name?\"))\n",
    "\n",
    "a1 = input (\"choose rock, scissors and paper\")\n",
    "a2 = input (\"choose rock, scissors and paper\")\n",
    "\n",
    "lib = {a1:p1, a2:p2}\n",
    "\n",
    "x = \"rock\"\n",
    "y = \"scissors\"\n",
    "z = \"paper\"\n",
    "\n",
    "if a1 == x and a2 == x:\n",
    "    print(\"draw!\")\n",
    "if a1 == x and a2 == y:\n",
    "    print( p1, \"wins!\")\n",
    "if a1 == x and a2 == z:\n",
    "    print( p2, \"wins!\")\n",
    "\n",
    "if a1 == y and a2 == y:\n",
    "    print(\"draw!\")\n",
    "if a1 == y and a2 == x:\n",
    "    print( p2, \"wins!\")\n",
    "if a1 == y and a2 == z:\n",
    "    print( p1, \"wins!\")\n",
    "    \n",
    "if a1 == z and a2 == z:\n",
    "    print(\"draw!\")\n",
    "if a1 == z and a2 == x:\n",
    "    print( p1, \"wins!\")\n",
    "if a1 == z and a2 == y:\n",
    "    print( p2, \"wins!\")\n",
    "\n"
   ]
  },
  {
   "cell_type": "code",
   "execution_count": null,
   "metadata": {},
   "outputs": [],
   "source": []
  }
 ],
 "metadata": {
  "kernelspec": {
   "display_name": "Python 3",
   "language": "python",
   "name": "python3"
  },
  "language_info": {
   "codemirror_mode": {
    "name": "ipython",
    "version": 3
   },
   "file_extension": ".py",
   "mimetype": "text/x-python",
   "name": "python",
   "nbconvert_exporter": "python",
   "pygments_lexer": "ipython3",
   "version": "3.6.5"
  }
 },
 "nbformat": 4,
 "nbformat_minor": 2
}
