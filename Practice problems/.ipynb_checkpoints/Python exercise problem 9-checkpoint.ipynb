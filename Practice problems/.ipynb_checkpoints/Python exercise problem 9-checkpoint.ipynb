{
 "cells": [
  {
   "cell_type": "code",
   "execution_count": null,
   "metadata": {},
   "outputs": [],
   "source": [
    "import random\n",
    "\n",
    "x = random.randint(1, 10)\n",
    "num = input(\"Choose a number between 1 and 9 \\n\")\n",
    "\n",
    "print(x)\n",
    "exit = -1\n",
    "while (num !=exit):\n",
    "    if int(num) < x:\n",
    "        print(\"too low\")\n",
    "        num = (input(\"Choose a number between 1 and 9 \\n\"))\n",
    "        if int(num) == -1:\n",
    "            print(\"end\")\n",
    "            break\n",
    "    elif int(num) > x:\n",
    "        print(\"too high\")\n",
    "        num = (input(\"Choose a number between 1 and 9 \\n\"))\n",
    "        if int(num) == -1:\n",
    "            print(\"end\")\n",
    "            break\n",
    "    elif int(num) == x:\n",
    "        print(\" correct number \")\n",
    "        break\n",
    "\n",
    "print(\"game over\")"
   ]
  },
  {
   "cell_type": "code",
   "execution_count": 1,
   "metadata": {},
   "outputs": [
    {
     "name": "stdout",
     "output_type": "stream",
     "text": [
      "9\n",
      "select your number between 1 and 9 \n",
      "exit\n"
     ]
    },
    {
     "ename": "ValueError",
     "evalue": "invalid literal for int() with base 10: 'exit'",
     "output_type": "error",
     "traceback": [
      "\u001b[1;31m---------------------------------------------------------------------------\u001b[0m",
      "\u001b[1;31mValueError\u001b[0m                                Traceback (most recent call last)",
      "\u001b[1;32m<ipython-input-1-be2c24e05b9f>\u001b[0m in \u001b[0;36m<module>\u001b[1;34m()\u001b[0m\n\u001b[0;32m     12\u001b[0m \u001b[1;33m\u001b[0m\u001b[0m\n\u001b[0;32m     13\u001b[0m \u001b[1;32mwhile\u001b[0m \u001b[0muser_input\u001b[0m \u001b[1;33m!=\u001b[0m \u001b[0mEXIT\u001b[0m\u001b[1;33m:\u001b[0m\u001b[1;33m\u001b[0m\u001b[0m\n\u001b[1;32m---> 14\u001b[1;33m     \u001b[1;32mif\u001b[0m \u001b[0mint\u001b[0m\u001b[1;33m(\u001b[0m\u001b[0muser_input\u001b[0m\u001b[1;33m)\u001b[0m \u001b[1;33m>\u001b[0m \u001b[0mx\u001b[0m\u001b[1;33m:\u001b[0m\u001b[1;33m\u001b[0m\u001b[0m\n\u001b[0m\u001b[0;32m     15\u001b[0m         \u001b[0mprint\u001b[0m\u001b[1;33m(\u001b[0m\u001b[1;34m\"too high\"\u001b[0m\u001b[1;33m)\u001b[0m\u001b[1;33m\u001b[0m\u001b[0m\n\u001b[0;32m     16\u001b[0m         \u001b[0mnum\u001b[0m \u001b[1;33m=\u001b[0m \u001b[0minput\u001b[0m\u001b[1;33m(\u001b[0m\u001b[1;34m\"select your number between 1 and 9 \\n\"\u001b[0m\u001b[1;33m)\u001b[0m\u001b[1;33m\u001b[0m\u001b[0m\n",
      "\u001b[1;31mValueError\u001b[0m: invalid literal for int() with base 10: 'exit'"
     ]
    }
   ],
   "source": [
    "import random\n",
    "\n",
    "x = random.randint(1, 10)\n",
    "\n",
    "print(x)\n",
    "\n",
    "EXIT = -1\n",
    "\n",
    "user_input = input(\"select your number between 1 and 9 \\n\")\n",
    "if user_input == \"exit\":\n",
    "    user_input == EXIT\n",
    "\n",
    "\n",
    "while user_input != EXIT:\n",
    "    if int(user_input) > x:\n",
    "        print(\"too high\")\n",
    "        num = input(\"select your number between 1 and 9 \\n\")\n",
    "    elif int(num) < x:\n",
    "        print(\"too low\")\n",
    "        num = input(\"select your number between 1 and 9 \\n\")\n",
    "    elif int(num) == x:\n",
    "        print(\"correct\")\n",
    "        break\n",
    "print(\"game over\")"
   ]
  },
  {
   "cell_type": "code",
   "execution_count": null,
   "metadata": {},
   "outputs": [],
   "source": []
  },
  {
   "cell_type": "code",
   "execution_count": null,
   "metadata": {},
   "outputs": [],
   "source": []
  }
 ],
 "metadata": {
  "kernelspec": {
   "display_name": "Python 3",
   "language": "python",
   "name": "python3"
  },
  "language_info": {
   "codemirror_mode": {
    "name": "ipython",
    "version": 3
   },
   "file_extension": ".py",
   "mimetype": "text/x-python",
   "name": "python",
   "nbconvert_exporter": "python",
   "pygments_lexer": "ipython3",
   "version": "3.6.5"
  }
 },
 "nbformat": 4,
 "nbformat_minor": 2
}
