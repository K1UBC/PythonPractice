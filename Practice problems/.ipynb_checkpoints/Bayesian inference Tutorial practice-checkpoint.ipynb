{
 "cells": [
  {
   "cell_type": "code",
   "execution_count": 8,
   "metadata": {},
   "outputs": [
    {
     "data": {
      "text/plain": [
       "0.7"
      ]
     },
     "execution_count": 8,
     "metadata": {},
     "output_type": "execute_result"
    }
   ],
   "source": [
    "# A sampling distribution -> probability of seeing our data (X) given our parameters(theta)\n",
    "# A sample distribution = p(X|theta)\n",
    "# eg. 1000 coin flips where 1 indicates a head\n",
    "\n",
    "import numpy as np\n",
    "data_coin_flips = np.random.randint(2, size= 1000)\n",
    "np.mean(data_coin_flips)\n",
    "\n",
    "# A sample distribution allows us to specify how we think the generated data\n",
    "# In this example, data is generated from a Bernoulli Distribution which takes one parameter p of the probability of sucess(1)\n",
    "# It is a fair coin flip experiment where p = 0.5\n",
    "# Create samples below\n",
    "\n",
    "bernoulli_flips = np.random.binomial(n=1, p=0.5, size=10)\n",
    "np.mean(bernoulli_flips)"
   ]
  },
  {
   "cell_type": "code",
   "execution_count": 12,
   "metadata": {},
   "outputs": [
    {
     "name": "stdout",
     "output_type": "stream",
     "text": [
      "0.4\n",
      "0.6\n"
     ]
    }
   ],
   "source": [
    "# Using the probability mass function(PMF) of the Bernoulli distribution to get a desired probability for a single coin flip\n",
    "# PMF takes a single observed data point and then given parameters(p)\n",
    "# Returns the probability of seeing the data point given those parameters\n",
    "# For a Bernoulli, if the data point is 1(success), the PMF is p\n",
    "# if the data point is 0(failure), the PMF is 1-p\n",
    "\n",
    "def bern_pmf(x, p):\n",
    "    if (x == 1):\n",
    "        return p\n",
    "    elif (x == 0):\n",
    "        return 1-p\n",
    "    else:\n",
    "        return \"unavailable\"\n",
    "    \n",
    "# X is the observed data point (whether success or failure), p is the probability of getting specific data point\n",
    "print(bern_pmf(0, 0.6))\n",
    "\n",
    "\n"
   ]
  },
  {
   "cell_type": "code",
   "execution_count": 14,
   "metadata": {},
   "outputs": [
    {
     "name": "stdout",
     "output_type": "stream",
     "text": [
      "0.4\n"
     ]
    }
   ],
   "source": [
    "# For more complex distributions, we use the scipy module.\n",
    "# Same experiment using a Bernoulli with scipy module below\n",
    "# Note that this is only with a single data point\n",
    "import scipy.stats as st\n",
    "print(st.bernoulli.pmf(0, 0.6))"
   ]
  },
  {
   "cell_type": "code",
   "execution_count": 15,
   "metadata": {},
   "outputs": [
    {
     "data": {
      "text/plain": [
       "9.332636185032189e-302"
      ]
     },
     "execution_count": 15,
     "metadata": {},
     "output_type": "execute_result"
    }
   ],
   "source": [
    "# For an experiment with multiple data points (e.g 1000 data points), assume data are iid.\n",
    "# Under iid assumption, the probability of seeing all data is the product of each individual probility\n",
    "# p(x1,....xn|b)=(x1|b)* ... *p(xn|b)\n",
    "# note that data_coin_flips is an array of list of numbers generated between 0 and 1\n",
    "np.product(st.bernoulli.pmf(data_coin_flips, 0.5))\n",
    "\n",
    "# The output is probability of seeing such result in 1000 trials\n"
   ]
  },
  {
   "cell_type": "code",
   "execution_count": 24,
   "metadata": {},
   "outputs": [
    {
     "data": {
      "image/png": "[encoded data removed]",
      "text/plain": [
       "<Figure size 432x288 with 1 Axes>"
      ]
     },
     "metadata": {},
     "output_type": "display_data"
    }
   ],
   "source": [
    "# np.linspace(2.0, 3.0, num=5) --> an array between 2 and 3 evenly apart from each other\n",
    "\n",
    "import matplotlib.pyplot as plt\n",
    "import seaborn as sns\n",
    "%matplotlib inline\n",
    "sns.set(style='ticks', palette=\"Set2\")\n",
    "\n",
    "# params are generated as an array of 100 numbers between 0 and 1 and evenly apart from each other\n",
    "params = np.linspace(0, 1, 100)\n",
    "p_x = [np.product(st.bernoulli.pmf(data_coin_flips, 0.5)) for p in params ]\n",
    "plt.plot(params, p_x)\n",
    "sns.despine()"
   ]
  },
  {
   "cell_type": "code",
   "execution_count": 31,
   "metadata": {},
   "outputs": [
    {
     "data": {
      "image/png": "[encoded data removed]",
      "text/plain": [
       "<Figure size 432x288 with 1 Axes>"
      ]
     },
     "metadata": {},
     "output_type": "display_data"
    }
   ],
   "source": [
    "# Prior distribution = probability that derived from many different parameters\n",
    "# In other word, it is the probability of seeing a specific value for our parameter\n",
    "# p(theta) = prior distribution.\n",
    "# In our sample distribution, that is probability of seeing data(X) in a given parameter(theta),\n",
    "# We defined 100 values from 0 to 1 for our parameter p as in the code params = np.linspace(0, 1, 100)\n",
    "# Now we define the prior probability of seeing each other those values.\n",
    "# The prior probability is we would have assumed before seeing any data based on the historical observation\n",
    "# We would have assumed a fair coin (hence p=0.5)\n",
    "# fair_flips is the prior probability\n",
    "\n",
    "fair_flips = bernoulli_flips = np.random.binomial(n=1, p=0.5, size=1000)\n",
    "p_fair = np.array([np.product(st.bernoulli.pmf(fair_flips, p)) for p in params])\n",
    "\n",
    "# p_fair is the array of numbers generated from bernoulli flips which are 1000 random numbers between 0 and 1 with probabiliy of 0.5\n",
    "\n",
    "p_fair = p_fair / np.sum(p_fair)\n",
    "plt.plot(params, p_fair)\n",
    "sns.despine()"
   ]
  },
  {
   "cell_type": "code",
   "execution_count": 36,
   "metadata": {},
   "outputs": [
    {
     "data": {
      "image/png": "[encoded data removed]",
      "text/plain": [
       "<Figure size 432x288 with 2 Axes>"
      ]
     },
     "metadata": {},
     "output_type": "display_data"
    }
   ],
   "source": [
    "# The graph shows that maximum likelihood probability of 0.5\n",
    "# What was done is that we created 1000 fair coin flips\n",
    "# and generated the sampling distribution like before and we got the prior probability for a fair coin on our parameter\n",
    "# It means that before we saw any data, we assume the probability of success is 0.5 and in this example, it means the coin is fair\n",
    "# In this example, the sampling and prior distributions are the same\n",
    "# Below is when the coin is biased (eg. p_head = 0.8)\n",
    "\n",
    "unfair_flips = bernoulli_flips = np.random.binomial(n=1, p=.8, size=1000)\n",
    "p_unfair = np.array([np.product(st.bernoulli.pmf(unfair_flips, p)) for p in params])\n",
    "fig, axes = plt.subplots(2, 1, sharex=True)\n",
    "axes[0].plot(params, p_unfair)\n",
    "axes[0].set_title(\"Sampling Distribution\")\n",
    "axes[1].plot(params, p_fair)\n",
    "axes[1].set_title(\"Prior Distribution\")\n",
    "sns.despine()\n",
    "plt.tight_layout()"
   ]
  },
  {
   "cell_type": "code",
   "execution_count": null,
   "metadata": {},
   "outputs": [],
   "source": [
    "# The graph above shows strong data evidence of unfair coin (biased coin with p=0.8)\n",
    "# However, our prior beliefs are telling that coins are fair\n",
    "\n",
    "# Here, we introduce Bayes theorem with posterior distribution \n",
    "# Bayes theorem allows us to go from the sampling and prior distribution to the posterior distribution\n",
    "# The posterior distribution is p(theta|X)\n",
    "# In other word, it is the probability of parameters given data\n",
    "# We need to determine which parameter is most likely given our data\n",
    "\n",
    "# P(A|B) = \\dfrac{P(A,B)}{P(B)} = the probability of seeing A given B = Probability of seeing both A and B divided by the probability of B\n",
    "# P(B|A) = \\dfrac{P(A,B)}{P(A)}\n",
    "# P(A,B) = P(A|B)*P(B)\n",
    "# P(A|B)*P(B) = P(B|A)*P(A), replace A and B with theta(parameter) and X(prior)\n",
    "# P(theta|X) = P(X|theta)*P(theta)/P(X) = P(likelihood)*P(prior)/P(X)\n",
    "# P(X)= the probability of data\n",
    "\n",
    "# P(B) = sum of P(A|B)*P(A) --> P(X) = sum of P(theta|X)*P(theta)\n",
    "# P(X) = sum of all parameter(p) values * likelihood * priors\n",
    "#\n"
   ]
  }
 ],
 "metadata": {
  "kernelspec": {
   "display_name": "Python 3",
   "language": "python",
   "name": "python3"
  },
  "language_info": {
   "codemirror_mode": {
    "name": "ipython",
    "version": 3
   },
   "file_extension": ".py",
   "mimetype": "text/x-python",
   "name": "python",
   "nbconvert_exporter": "python",
   "pygments_lexer": "ipython3",
   "version": "3.6.5"
  }
 },
 "nbformat": 4,
 "nbformat_minor": 2
}
