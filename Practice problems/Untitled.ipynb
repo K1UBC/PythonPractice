{
 "cells": [
  {
   "cell_type": "code",
   "execution_count": 5,
   "metadata": {},
   "outputs": [
    {
     "name": "stdout",
     "output_type": "stream",
     "text": [
      "Game Start\n",
      "4\n",
      "Guess a number between 1 and 10\n",
      "select your number between 1 to 9 \n",
      "6\n",
      "select your number between 1 to 9 \n",
      "8\n",
      "select your number between 1 to 9 \n",
      "exit\n",
      "You guessed 3 times\n"
     ]
    }
   ],
   "source": [
    "import random\n",
    "\n",
    "print (\"Game Start\")\n",
    "x = random.randint(1, 10)\n",
    "print(x)\n",
    "print (\"Guess a number between 1 and 10\")\n",
    "\n",
    "num_guesses = 0\n",
    "\n",
    "numb = \"I want to play\"\n",
    "\n",
    "while ( numb != -1): #Im guessing something\n",
    "    num_guesses += 1\n",
    "    numb = input(\"select your number between 1 to 9 \\n\")\n",
    "    if numb == \"exit\":\n",
    "        numb = -1\n",
    "    if (int(numb) == x):\n",
    "        print(\"correct!\")\n",
    "        numb = -1\n",
    "\n",
    "print (\"You guessed\", num_guesses, \"times\")\n",
    "\n",
    "\n",
    "\n"
   ]
  },
  {
   "cell_type": "markdown",
   "metadata": {},
   "source": [
    "## "
   ]
  },
  {
   "cell_type": "code",
   "execution_count": 3,
   "metadata": {},
   "outputs": [
    {
     "data": {
      "text/plain": [
       "False"
      ]
     },
     "execution_count": 3,
     "metadata": {},
     "output_type": "execute_result"
    }
   ],
   "source": [
    "7 ==\"9\""
   ]
  },
  {
   "cell_type": "code",
   "execution_count": null,
   "metadata": {},
   "outputs": [],
   "source": []
  }
 ],
 "metadata": {
  "kernelspec": {
   "display_name": "Python 3",
   "language": "python",
   "name": "python3"
  },
  "language_info": {
   "codemirror_mode": {
    "name": "ipython",
    "version": 3
   },
   "file_extension": ".py",
   "mimetype": "text/x-python",
   "name": "python",
   "nbconvert_exporter": "python",
   "pygments_lexer": "ipython3",
   "version": "3.6.5"
  }
 },
 "nbformat": 4,
 "nbformat_minor": 2
}
